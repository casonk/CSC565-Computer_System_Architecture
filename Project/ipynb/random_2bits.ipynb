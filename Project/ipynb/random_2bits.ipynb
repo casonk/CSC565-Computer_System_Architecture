{
 "cells": [
  {
   "cell_type": "code",
   "execution_count": 17,
   "metadata": {},
   "outputs": [],
   "source": [
    "import random"
   ]
  },
  {
   "cell_type": "code",
   "execution_count": 18,
   "metadata": {},
   "outputs": [],
   "source": [
    "NUM_BITS = 1\n",
    "NUM_INPUTS = 100\n",
    "GLOBAL_RESET = 100\n",
    "MODULE_NAME = 'bit_memory_unit'\n",
    "# MODULE_NAME = 'half_adder'\n",
    "# MODULE_NAME = 'half_subtractor'"
   ]
  },
  {
   "cell_type": "code",
   "execution_count": 19,
   "metadata": {},
   "outputs": [],
   "source": [
    "prelog = ('''\n",
    "module {}_test;\n",
    "\n",
    "\t// Inputs\n",
    "\treg inbit_0;\n",
    "\t// reg inbit_1;\n",
    "\treg load_flag;\n",
    "\n",
    "\t// Outputs\n",
    "\twire outbit_0;\n",
    "\t// wire carry_out; \n",
    "\t// wire borrow_out;\n",
    "\n",
    "\t// Instantiate the Unit Under Test (UUT)\n",
    "\t{} uut (\n",
    "\t\t.inbit_0(inbit_0), \n",
    "\t\t// .inbit_1(inbit_1),\n",
    "\t\t.load_flag (load_flag),\n",
    "\t\t.outbit_0(outbit_0)\n",
    "\t\t// .carry_out(carry_out)\n",
    "\t\t// .borrow_out(borrow_out)\n",
    "\t\t\n",
    "\t);\n",
    "\n",
    "\tinitial begin\n",
    "\t\t// Initialize Inputs\n",
    "\t\tinbit_0 = 0;\n",
    "\t\t// inbit_1 = 0;\n",
    "\t\tload_flag = 0;\n",
    "\n",
    "\t\t// Wait {} ns for global reset to finish\n",
    "\t\t#{};\n",
    "        \n",
    "\t\t// Add stimulus here: {} INPUTS\n",
    "''').format(MODULE_NAME,MODULE_NAME,GLOBAL_RESET,GLOBAL_RESET,NUM_INPUTS)\n",
    "\n",
    "test_case = '''\n",
    "        inbit_0 = {};\n",
    "        // inbit_1 = ;\n",
    "\t\tload_flag = {};\n",
    "        #{};\n",
    "        \n",
    "'''\n",
    "postlog = '''\n",
    "    end\n",
    "endmodule\n",
    "'''"
   ]
  },
  {
   "cell_type": "code",
   "execution_count": 20,
   "metadata": {},
   "outputs": [],
   "source": [
    "with open('../tests/{}_test.v'.format(MODULE_NAME), 'w') as test_vector:\n",
    "    test_vector.write(prelog)\n",
    "    for _ in range(NUM_INPUTS):\n",
    "        IN_0 = random.getrandbits(NUM_BITS)\n",
    "        IN_1 = random.getrandbits(NUM_BITS)\n",
    "        # if IN_0 == IN_1:\n",
    "        #     if random.getrandbits(NUM_BITS):\n",
    "        #         IN_0 = int(not IN_0)\n",
    "        #     else:\n",
    "        #         IN_1 = int(not IN_1)\n",
    "        test_vector.write(test_case.format(IN_0, IN_1, GLOBAL_RESET))\n",
    "    test_vector.write(postlog)"
   ]
  }
 ],
 "metadata": {
  "kernelspec": {
   "display_name": "Python 3",
   "language": "python",
   "name": "python3"
  },
  "language_info": {
   "codemirror_mode": {
    "name": "ipython",
    "version": 3
   },
   "file_extension": ".py",
   "mimetype": "text/x-python",
   "name": "python",
   "nbconvert_exporter": "python",
   "pygments_lexer": "ipython3",
   "version": "3.11.0"
  },
  "orig_nbformat": 4,
  "vscode": {
   "interpreter": {
    "hash": "5238573367df39f7286bb46f9ff5f08f63a01a80960060ce41e3c79b190280fa"
   }
  }
 },
 "nbformat": 4,
 "nbformat_minor": 2
}
