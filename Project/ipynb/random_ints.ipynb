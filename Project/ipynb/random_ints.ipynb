{
 "cells": [
  {
   "cell_type": "code",
   "execution_count": 9,
   "metadata": {},
   "outputs": [],
   "source": [
    "import random"
   ]
  },
  {
   "cell_type": "code",
   "execution_count": 10,
   "metadata": {},
   "outputs": [],
   "source": [
    "NUM_BITS = 8\n",
    "NUM_INPUTS = 1000\n",
    "GLOBAL_RESET = 100\n",
    "MODULE_NAME = 'module'"
   ]
  },
  {
   "cell_type": "code",
   "execution_count": 11,
   "metadata": {},
   "outputs": [],
   "source": [
    "prelog = ('''\n",
    "module {}_test;\n",
    "\n",
    "\t// Inputs\n",
    "\treg inx;\n",
    "\treg iny;\n",
    "\n",
    "\t// Outputs\n",
    "\twire ouz;\n",
    "\n",
    "\t// Instantiate the Unit Under Test (UUT)\n",
    "\t{} uut (\n",
    "\t\t.inx(inx), \n",
    "\t\t.iny(iny), \n",
    "\t\t.ouz(ouz)\n",
    "\t);\n",
    "\n",
    "\tinitial begin\n",
    "\t\t// Initialize Inputs\n",
    "\t\tinx = 00000000;\n",
    "\t\tiny = 00000000;\n",
    "\n",
    "\t\t// Wait {} ns for global reset to finish\n",
    "\t\t#{};\n",
    "        \n",
    "\t\t// Add stimulus here: {} INPUTS\n",
    "''').format(MODULE_NAME,MODULE_NAME,GLOBAL_RESET,GLOBAL_RESET,NUM_INPUTS)\n",
    "\n",
    "test_case = '''\n",
    "        inx = {};\n",
    "        iny = {};\n",
    "        #{};\n",
    "\n",
    "'''\n",
    "\n",
    "postlog = '''\n",
    "    end\n",
    "endmodule\n",
    "'''"
   ]
  },
  {
   "cell_type": "code",
   "execution_count": 12,
   "metadata": {},
   "outputs": [],
   "source": [
    "with open('../tests/{}_test.v'.format(MODULE_NAME), 'w') as test_vector:\n",
    "    test_vector.write(prelog)\n",
    "    for _ in range(NUM_INPUTS):\n",
    "        INX = \"{:0>8b}\".format(random.getrandbits(NUM_BITS))\n",
    "        INY = \"{:0>8b}\".format(random.getrandbits(NUM_BITS))\n",
    "        test_vector.write(test_case.format(INX,INY,GLOBAL_RESET))\n",
    "    test_vector.write(postlog)"
   ]
  }
 ],
 "metadata": {
  "kernelspec": {
   "display_name": "Python 3",
   "language": "python",
   "name": "python3"
  },
  "language_info": {
   "codemirror_mode": {
    "name": "ipython",
    "version": 3
   },
   "file_extension": ".py",
   "mimetype": "text/x-python",
   "name": "python",
   "nbconvert_exporter": "python",
   "pygments_lexer": "ipython3",
   "version": "3.11.0"
  },
  "orig_nbformat": 4,
  "vscode": {
   "interpreter": {
    "hash": "5238573367df39f7286bb46f9ff5f08f63a01a80960060ce41e3c79b190280fa"
   }
  }
 },
 "nbformat": 4,
 "nbformat_minor": 2
}
